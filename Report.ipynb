{
 "cells": [
  {
   "cell_type": "markdown",
   "metadata": {},
   "source": [
    "# Capstone Project - The Battle of Neighborhoods\n",
    "## SEARCH FOR THE PERFECT PLACE!\n",
    "\n",
    "## INTRODUCTION\n",
    "When you consider the demography of London, you will see a rainbow — a community of multi-colour multi-ethnic groups. From the South of the River Thames and across to the other side of it, the diversity of London is the strength every business from across the walks of life has taken opportunity of.\n",
    "In London, Asian community is massive. But something that really lack its essence is the availability of an high-end Asian Restaurant that caters beyond the food but comes with the ambience of the service. With the arrays of restaurants in London, there are peculiarly lacking the finest restaurant that can answer the call within certain areas of interest when it comes to Asian cuisines and flavours. \n",
    "\n",
    "In order to get a very good location for a restaurant that meet this need, the London area is explored through clustering and segmentation based on the London Post code and proximity to supplies."
   ]
  },
  {
   "cell_type": "markdown",
   "metadata": {},
   "source": [
    "## Methedology \n",
    "1.Single Neighbourhood — An initial exploration of a single Neighbourhood within the London area was done to examine the Foursquare workability. The Newham Borough postcode and Location - Beckton is used for this.\n",
    "\n",
    "2.Multiple Neighbourhoods\n",
    "Now we will explore (Multiple) Neighborhoods in the east London area. To do this, the function getNearbyVenues is used and its created to repeat the same process neighborhoods.\n",
    "\n",
    "3.Clustering\n",
    "For this section, the neighbourhoods in East London will be clustered based on the processed data obtained above.\n",
    "\n",
    "4.Map Visualization \n",
    "Using the geopy library, the latitude and longitude values of London is obtained.\n",
    "Then, the folium library is then used to obtain the coordinates.\n",
    "\n",
    "5.Analysing Each Neighbourhood \n",
    "In this section, the objective is to check and explore the venues in each neighbourhood.\n",
    "\n",
    "6.Clustering of Neighbourhoods\n",
    "We create the grouped clustering for the neighbourhood. \n",
    "\n",
    "7. Visualisation of each cluster is done.\n"
   ]
  },
  {
   "cell_type": "markdown",
   "metadata": {},
   "source": [
    "## Data\n",
    "## Dataset 1\n",
    "For data I have used wikipedia and foursqaure. Links used are: https://en.wikipedia.org/wiki/List_of_areas_of_London https://en.wikipedia.org/wiki/Demography_of_London Scrapping of data is shown in the \" Battle of neighborhood\" notebook.\n",
    "\n",
    "## Dataset 2\n",
    "In obtaining the location data of the locations, the Geocoder package is used with the arcgis_geocoder to obtain the latitude and longitude of the needed locations. These will help to create a new dataframe that will be used subsequently for London areas.\n",
    "\n",
    "The Foursquare API will be used to obtain the London Area venues for the geographical location data . These will be used to explore the neighbourhoods of London acordingly."
   ]
  },
  {
   "cell_type": "markdown",
   "metadata": {},
   "source": [
    "## Results\n",
    "The following are the highlights of the 5 clusters above:\n",
    "\n",
    "Pub,Cafe, Coffee Shops are popular in east London.\n",
    "\n",
    "As for restaurants, the Indian,Italian Restaurants and turkish restaurants are very popular in the east London area.\n",
    "\n",
    "With the above areas being the most condensed area of Asians in the London , it is surprising to see how in the top 10 venues,\n",
    "you can barely see Asian restaurants in the top 5 venues.\n",
    "\n",
    "Although, the Clusters have variations, a very visible presence is the predominance of Hotels and coffee shops.\n",
    "\n",
    "## Discussion and Conclusion:\n",
    "\n",
    "Canary Warf, Bethnal green and Blackwall are viable options for an asian restaurant. They have a large Asian popullation but very few Asian restaurants. In conclusion, this project would have had better results if there were more data in terms of crime data within the area, traffic access and allowance of more venues exploration with the Foursquare (limited venues for free calls). Also, getting the ratings and feedback of the current restaurants within the clusters would have helped in providing more insight into the best location."
   ]
  }
 ],
 "metadata": {
  "kernelspec": {
   "display_name": "Python 3",
   "language": "python",
   "name": "python3"
  },
  "language_info": {
   "codemirror_mode": {
    "name": "ipython",
    "version": 3
   },
   "file_extension": ".py",
   "mimetype": "text/x-python",
   "name": "python",
   "nbconvert_exporter": "python",
   "pygments_lexer": "ipython3",
   "version": "3.7.6"
  }
 },
 "nbformat": 4,
 "nbformat_minor": 4
}

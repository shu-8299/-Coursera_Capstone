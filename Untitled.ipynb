{
 "cells": [
  {
   "cell_type": "markdown",
   "metadata": {},
   "source": [
    "# Dataset 1\n",
    "For data I have used wikipedia and foursqaure.\n",
    "Links used are:\n",
    "https://en.wikipedia.org/wiki/List_of_areas_of_London\n",
    "https://en.wikipedia.org/wiki/Demography_of_London\n",
    "Scrapping of data is shown in the \" Battle of neighborhood\" notebook.\n",
    "# Dataset 2\n",
    "In obtaining the location data of the locations, the Geocoder package is used with the arcgis_geocoder to obtain the latitude and longitude of the needed locations.\n",
    "These will help to create a new dataframe that will be used subsequently for London areas.\n",
    "\n",
    "The Foursquare API will be used to obtain the London Area venues for the geographical location data . These will be used to explore the neighbourhoods of London acordingly.\n"
   ]
  },
  {
   "cell_type": "code",
   "execution_count": null,
   "metadata": {},
   "outputs": [],
   "source": []
  }
 ],
 "metadata": {
  "kernelspec": {
   "display_name": "Python 3",
   "language": "python",
   "name": "python3"
  },
  "language_info": {
   "codemirror_mode": {
    "name": "ipython",
    "version": 3
   },
   "file_extension": ".py",
   "mimetype": "text/x-python",
   "name": "python",
   "nbconvert_exporter": "python",
   "pygments_lexer": "ipython3",
   "version": "3.7.6"
  }
 },
 "nbformat": 4,
 "nbformat_minor": 4
}

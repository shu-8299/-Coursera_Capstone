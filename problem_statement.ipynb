{
 "cells": [
  {
   "cell_type": "markdown",
   "metadata": {},
   "source": [
    "# THE BATTLE OF NEIGHBORHOOD\n"
   ]
  },
  {
   "cell_type": "markdown",
   "metadata": {},
   "source": [
    "## WEEK4: PART a)- Best Place to open an Asian restaurant in London.\n",
    "## Introduction and business problem\n",
    "## Problem background\n",
    "\n",
    "The City of London, is the most populous city in the United Kingdom. It is diverse and is the capital of UK. It is multicultural. It provides lot of business oppourtunities and business friendly environment. It has attracted many different players into the market. It is a global hub of business and commerce. The city is a major center for banking and finance, retailing, world trade, transportation, tourism, real estate, new media, traditional media, advertising, legal services, accountancy, insurance, theater, fashion, and the arts in the United Kingdom.\n",
    "\n",
    "This also means that the market is highly competitive. As it is highly developed city so cost of doing business is also one of the highest. Thus, any new business venture or expansion needs to be analysed carefully. The insights derived from analysis will give good understanding of the business environment which help in strategically targeting the market. This will help in reduction of risk. And the Return on Investment will be reasonable."
   ]
  },
  {
   "cell_type": "markdown",
   "metadata": {},
   "source": [
    "## Problem statement\n",
    "\n",
    " A restaurant is a business which prepares and serves food and drink to customers in return for money, either paid before the meal, after the meal, or with an open account. The City of London is famous for its excelllent cuisine. It's food culture includes an array of international cuisines influenced by the city's immigrant history. We intend to open an Asian restaurant.\n",
    "\n",
    "Central and Eastern European immigrants, especially Jewish immigrants - bagels, cheesecake, hot dogs, knishes, and delicatessens\n",
    "\n",
    "Italian immigrants - Italian cuisine\n",
    "\n",
    "Jewish immigrants and Irish immigrants - pastrami and corned beef\n",
    "\n",
    "Chinese and other Asian restaurants, sandwich joints, trattorias, diners, and coffeehouses are ubiquitous throughout the city\n",
    "mobile food vendors - Some 4,000 licensed by the city. Fish and chips is a popular choice in the city.\n",
    "\n",
    "Middle Eastern foods such as falafel and kebabs examples of modern London street food\n",
    "\n",
    "It is famous for not just Pizzerias, Cafe's but also for fine dining Michelin starred restaurants.\n",
    "## Target audience:\n",
    "To recommend the correct location, XYZ Company Ltd has appointed me to lead of the Data Science team. The objective is to locate and recommend to the management which neighborhood of London city will be best choice to start an Asian restaurant. The Management also expects to understand the rationale of the recommendations made.\n",
    "\n",
    "This would interest anyone who wants to start a new Asian restaurant in London.\n",
    "## Success Criteria:\n",
    "The success criteria of the project will be a good recommendation of borough/Neighborhood choice to XYZ Company Ltd based on Lack of such restaurants in that location and nearest suppliers of ingredients."
   ]
  },
  {
   "cell_type": "code",
   "execution_count": null,
   "metadata": {},
   "outputs": [],
   "source": []
  }
 ],
 "metadata": {
  "kernelspec": {
   "display_name": "Python 3",
   "language": "python",
   "name": "python3"
  },
  "language_info": {
   "codemirror_mode": {
    "name": "ipython",
    "version": 3
   },
   "file_extension": ".py",
   "mimetype": "text/x-python",
   "name": "python",
   "nbconvert_exporter": "python",
   "pygments_lexer": "ipython3",
   "version": "3.7.6"
  }
 },
 "nbformat": 4,
 "nbformat_minor": 4
}
